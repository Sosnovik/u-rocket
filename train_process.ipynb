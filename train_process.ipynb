{
 "cells": [
  {
   "cell_type": "code",
   "execution_count": 1,
   "metadata": {
    "collapsed": false
   },
   "outputs": [
    {
     "name": "stderr",
     "output_type": "stream",
     "text": [
      "Using TensorFlow backend.\n"
     ]
    }
   ],
   "source": [
    "from keras.models import Model\n",
    "from keras.optimizers import Adam,SGD\n",
    "from keras import backend as K\n",
    "import numpy as np\n",
    "import rocket_tools as rt\n",
    "import cv2"
   ]
  },
  {
   "cell_type": "code",
   "execution_count": null,
   "metadata": {
    "collapsed": true
   },
   "outputs": [],
   "source": [
    "In = Input(shape=(image_size, image_size, 3))\n",
    "\n",
    "model_unet = rt.model_keras.UNet((image_size,image_size,3),start_ch=16,depth=6,inc_rate=2)\n",
    "\n",
    "out1 = model_unet(In)\n",
    "model = Model(inputs = [In], outputs=[out1])\n",
    "\n",
    "optimzer=Adam(lr=0.001)\n",
    "model.compile(optimizer=optimzer, loss=[rt.losses.dice_coef_loss],metrics=[rt.losses.dice_coef])\n",
    "\n",
    "\n",
    "steps=45000\n",
    "batch_size=32\n",
    "\n",
    "\n",
    "image_generator = rt.image_gen.ImageGenerator(image_size=(image_size, image_size), snr_mean=6, snr_std=3)\n",
    "batch_generator = rt.batch_generator.BatchGenerator(image_generator, batch_size,\n",
    "                                                    n_images=n_images)\n",
    "\n",
    "print('started training')\n",
    "for step in range(steps):\n",
    "    x_batch, y_label = next(batch_generator)\n",
    "\n",
    "    #x_draw = x_batch[0, :, :, :] * 255\n",
    "    #y_in_draw = y_label[0, :, :, :] * 255\n",
    "    #cv2.imshow('x', x_draw.astype(np.uint8))\n",
    "    #cv2.imshow('y_in', y_in_draw.astype(np.uint8))\n",
    "    #cv2.waitKey()\n",
    "    loss = model.train_on_batch(x_batch,y_label)\n",
    "    # _, summary =\n",
    "    #sess.run(train_opt_2, feed_dict={x: x_batch, label: y_label})\n",
    "    # writer.add_summary(summary, step)\n",
    "    if step % 50 == 0:\n",
    "        x_batch, y_label = next(batch_generator)\n",
    "        print(str(step) + ' ' + str(loss))\n",
    "        x_test = np.zeros((1,128,128,3))\n",
    "        x_test[0,:,:,:] = x_batch[0,:,:,:]\n",
    "        res = model.predict(x_test)\n",
    "        #res = sess.run(output, feed_dict={x: x_test})\n",
    "        cv2.imwrite('prediction/'+str(step)+'_in.png', res[0, :, :, :] * 255.0)\n",
    "\n",
    "    if step % 5000 == 0:\n",
    "        if step!=0:\n",
    "            model.save_weights('./../saved_models_keras/unet_weight_'+str(step)+'_.h5')\n",
    "\n",
    "print('finished training')\n",
    "model.save_weights('./../saved_models_keras/unet_weight_final_.h5')\n"
   ]
  }
 ],
 "metadata": {
  "kernelspec": {
   "display_name": "Python 2",
   "language": "python",
   "name": "python2"
  },
  "language_info": {
   "codemirror_mode": {
    "name": "ipython",
    "version": 2
   },
   "file_extension": ".py",
   "mimetype": "text/x-python",
   "name": "python",
   "nbconvert_exporter": "python",
   "pygments_lexer": "ipython2",
   "version": "2.7.6"
  }
 },
 "nbformat": 4,
 "nbformat_minor": 0
}
