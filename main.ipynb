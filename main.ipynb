{
 "cells": [
  {
   "cell_type": "code",
   "execution_count": 1,
   "metadata": {
    "collapsed": false
   },
   "outputs": [
    {
     "name": "stderr",
     "output_type": "stream",
     "text": [
      "Using TensorFlow backend.\n"
     ]
    }
   ],
   "source": [
    "import tensorflow as tf\n",
    "import numpy as np\n",
    "import rocket_tools as rt\n",
    "#from keras import backend \n",
    "#from keras.backend import learning_phase\n",
    "import os\n",
    "os.environ[\"CUDA_VISIBLE_DEVICES\"]=\"1\"  "
   ]
  },
  {
   "cell_type": "code",
   "execution_count": 2,
   "metadata": {
    "collapsed": false
   },
   "outputs": [],
   "source": [
    "def train_model(model, writer_path, sess, model_path, steps=60000, batch_size=32, image_size=128, n_images=3):    \n",
    "    x_input = tf.placeholder(tf.float32, \n",
    "                             [None, image_size, image_size, n_images], \n",
    "                             name='input')\n",
    "    y_true = tf.placeholder(tf.float32, \n",
    "                            [None, image_size, image_size, n_images], \n",
    "                            name='mask_true')\n",
    "    y_pred = model(x_input) \n",
    "    \n",
    "    loss_op = -rt.losses.dice_coef(y_true, y_pred)\n",
    "    adam = tf.train.AdamOptimizer()\n",
    "    train_op = adam.minimize(loss_op)\n",
    "    \n",
    "    with tf.variable_scope('metrics'):\n",
    "        tf.summary.scalar('dice', rt.losses.dice_coef(y_true, y_pred))\n",
    "        tf.summary.scalar('jacard', rt.losses.jacard_coef(y_true, y_pred)) \n",
    "        tf.summary.scalar('accuracy', rt.metrics.accuracy(y_true, y_pred))\n",
    "        tf.summary.scalar('IoU', rt.metrics.IoU(y_true, y_pred))\n",
    "        tf.summary.scalar('log_loss', loss_op)\n",
    "        tf.summary.image('input', x_input[:1, :, :, :1])\n",
    "        tf.summary.image('pred', y_pred[:1, :, :, :1])\n",
    "        tf.summary.image('mask', y_true[:1, :, :, :1])\n",
    "        summary_op = tf.summary.merge_all()\n",
    "        writer = tf.summary.FileWriter(writer_path)\n",
    "    \n",
    "    \n",
    "    \n",
    "    image_generator = rt.image_gen.ImageGenerator(image_size=(image_size, image_size))\n",
    "    batch_generator = rt.batch_generator.BatchGenerator(image_generator, batch_size, \n",
    "                                                        snr_mean=5, snr_std=2, n_images=n_images)\n",
    "    \n",
    "    # initialize training session\n",
    "    sess = tf.InteractiveSession()\n",
    "    sess.run(tf.global_variables_initializer())\n",
    "   \n",
    "    print('started training')\n",
    "    for step in range(steps):\n",
    "        x, y = next(batch_generator)\n",
    "        _, summary = sess.run([train_op, summary_op], \n",
    "                              feed_dict={\n",
    "                                  x_input: x, \n",
    "                                  y_true: y \n",
    "                              })\n",
    "        writer.add_summary(summary, step) \n",
    "        \n",
    "    print('finished training')\n",
    "    saver = tf.train.Saver()\n",
    "    saver.save(sess, model_path)\n"
   ]
  },
  {
   "cell_type": "code",
   "execution_count": 3,
   "metadata": {
    "collapsed": false
   },
   "outputs": [
    {
     "name": "stdout",
     "output_type": "stream",
     "text": [
      "started training\n",
      "finished training\n"
     ]
    }
   ],
   "source": [
    "if __name__ == \"__main__\":\n",
    "    # parsing\n",
    "    #from argparse import ArgumentParser\n",
    "    #parser = ArgumentParser()\n",
    "\n",
    "    #parser.add_argument('--snr', type=float, required=True)\n",
    "    #options = parser.parse_args()\n",
    "    \n",
    "    tf.reset_default_graph()\n",
    "      \n",
    "    image_size = 128\n",
    "    n_images = 3\n",
    "\n",
    "    TB_PATH = './../tensorboard/u_net/image_size={}_snr_all'.format(image_size)\n",
    "    MODEL_PATH = './../saved_models/u_net_image_size={}_snr=_all'.format(image_size)\n",
    "    os.system('rm -rf {}'.format(TB_PATH))\n",
    "    \n",
    "    model = rt.model.U_NET(input_=(image_size, image_size, n_images))\n",
    "    sess = tf.InteractiveSession()\n",
    "\n",
    "    train_model(model, writer_path=TB_PATH, model_path=MODEL_PATH, sess=sess)\n"
   ]
  },
  {
   "cell_type": "code",
   "execution_count": 5,
   "metadata": {
    "collapsed": false
   },
   "outputs": [
    {
     "name": "stdout",
     "output_type": "stream",
     "text": [
      "INFO:tensorflow:Restoring parameters from ./../saved_models/u_net_image_size=128_snr=_all\n"
     ]
    }
   ],
   "source": [
    "model = rt.model.U_NET(input_=(128, 128, 3))\n",
    "sess = tf.InteractiveSession()\n",
    "saver = tf.train.Saver()\n",
    "saver.restore(sess, './../saved_models/u_net_image_size=128_snr=_all')"
   ]
  },
  {
   "cell_type": "code",
   "execution_count": 10,
   "metadata": {
    "collapsed": false
   },
   "outputs": [],
   "source": [
    "x_input = tf.placeholder(tf.float32, [None, 128, 128, 3], \n",
    "                             name='input')\n",
    "y_pred = model(x_input)\n",
    "pred = y_pred.eval(feed_dict={x_input:-0.5*np.ones([1,128,128,3], dtype='float32'), learning_phase():1})"
   ]
  },
  {
   "cell_type": "code",
   "execution_count": 11,
   "metadata": {
    "collapsed": false
   },
   "outputs": [],
   "source": [
    "image_generator = rt.image_gen.ImageGenerator(image_size=(128, 128))\n",
    "batch_generator = rt.batch_generator.BatchGenerator(image_generator, batch_size=64, snr_mean=5, snr_std=2, n_images=3)\n",
    "\n",
    "x, y =next(batch_generator)\n",
    "pred_s = sess.run(y_pred, feed_dict={x_input: x, learning_phase(): 1})"
   ]
  },
  {
   "cell_type": "code",
   "execution_count": null,
   "metadata": {
    "collapsed": true
   },
   "outputs": [],
   "source": []
  }
 ],
 "metadata": {
  "kernelspec": {
   "display_name": "Python 2",
   "language": "python",
   "name": "python2"
  },
  "language_info": {
   "codemirror_mode": {
    "name": "ipython",
    "version": 2
   },
   "file_extension": ".py",
   "mimetype": "text/x-python",
   "name": "python",
   "nbconvert_exporter": "python",
   "pygments_lexer": "ipython2",
   "version": "2.7.6"
  }
 },
 "nbformat": 4,
 "nbformat_minor": 2
}
