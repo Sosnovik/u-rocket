{
 "cells": [
  {
   "cell_type": "code",
   "execution_count": 2,
   "metadata": {
    "collapsed": true
   },
   "outputs": [],
   "source": [
    "import os\n",
    "os.environ[\"CUDA_VISIBLE_DEVICES\"]=\"0\"  "
   ]
  },
  {
   "cell_type": "code",
   "execution_count": 3,
   "metadata": {},
   "outputs": [
    {
     "name": "stderr",
     "output_type": "stream",
     "text": [
      "Using TensorFlow backend.\n"
     ]
    }
   ],
   "source": [
    "from keras.models import Model\n",
    "from keras.layers import *\n",
    "from keras import backend as K\n",
    "from keras.optimizers import Adam\n",
    "\n",
    "import numpy as np\n",
    "import pandas as pd\n",
    "import matplotlib.pyplot as plt\n",
    "%matplotlib inline"
   ]
  },
  {
   "cell_type": "code",
   "execution_count": 5,
   "metadata": {},
   "outputs": [],
   "source": [
    "from keras.preprocessing import image\n",
    "import glob\n",
    "from PIL import Image"
   ]
  },
  {
   "cell_type": "code",
   "execution_count": 8,
   "metadata": {},
   "outputs": [],
   "source": [
    "files = glob.glob('photo/*.bmp')\n",
    "\n",
    "def get_array(file):\n",
    "    image = Image.open(file)\n",
    "    image = np.array(file).astype('float32')\n",
    "    image = image / 255.0\n",
    "    return image \n",
    "\n",
    "def get_random_background():\n",
    "    random_path = np.random.choice(files, 1)\n",
    "    array = get_array(random_path[0])\n",
    "    array = image.random_rotation(array, 90)\n",
    "    array = np.flip(array, 1)\n",
    "    return array"
   ]
  },
  {
   "cell_type": "code",
   "execution_count": 8,
   "metadata": {
    "collapsed": true
   },
   "outputs": [],
   "source": [
    "def preprocess_batch(batch):\n",
    "    batch /= 256\n",
    "    batch -= 0.5\n",
    "    return batch"
   ]
  },
  {
   "cell_type": "code",
   "execution_count": 9,
   "metadata": {
    "collapsed": true
   },
   "outputs": [],
   "source": [
    "def dice_coef(y_true, y_pred):\n",
    "    y_true_f = K.flatten(y_true)\n",
    "    y_pred_f = K.flatten(y_pred)\n",
    "    intersection = K.sum(y_true_f * y_pred_f)\n",
    "    return (2.0 * intersection + 1.0) / (K.sum(y_true_f) + K.sum(y_pred_f) + 1.0)\n",
    "\n",
    "\n",
    "def jacard_coef(y_true, y_pred):\n",
    "    y_true_f = K.flatten(y_true)\n",
    "    y_pred_f = K.flatten(y_pred)\n",
    "    intersection = K.sum(y_true_f * y_pred_f)\n",
    "    return (intersection + 1.0) / (K.sum(y_true_f) + K.sum(y_pred_f) - intersection + 1.0)\n",
    "\n",
    "\n",
    "def jacard_coef_loss(y_true, y_pred):\n",
    "    return -jacard_coef(y_true, y_pred)\n",
    "\n",
    "\n",
    "def dice_coef_loss(y_true, y_pred):\n",
    "    return -dice_coef(y_true, y_pred)"
   ]
  },
  {
   "cell_type": "code",
   "execution_count": 10,
   "metadata": {
    "collapsed": true
   },
   "outputs": [],
   "source": [
    "def double_conv_layer(x, size, dropout, batch_norm):\n",
    "    axis = 3\n",
    "    conv = Conv2D(size, (3, 3), padding='same')(x)\n",
    "    if batch_norm is True:\n",
    "        conv = BatchNormalization(axis=axis)(conv)\n",
    "    conv = Activation('relu')(conv)\n",
    "    conv = Conv2D(size, (3, 3), padding='same')(conv)\n",
    "    if batch_norm is True:\n",
    "        conv = BatchNormalization(axis=axis)(conv)\n",
    "    conv = Activation('relu')(conv)\n",
    "    if dropout > 0:\n",
    "        conv = Dropout(dropout)(conv)\n",
    "    return conv"
   ]
  },
  {
   "cell_type": "code",
   "execution_count": 12,
   "metadata": {
    "collapsed": true
   },
   "outputs": [],
   "source": [
    "def ZF_UNET_224(dropout_val=0.0, batch_norm=True):\n",
    "    inputs = Input((128, 128, 1))\n",
    "    axis = 3\n",
    "    filters = 16\n",
    "\n",
    "    conv_224 = double_conv_layer(inputs, filters, dropout_val, batch_norm)\n",
    "    pool_112 = MaxPooling2D(pool_size=(2, 2))(conv_224)\n",
    "\n",
    "    conv_112 = double_conv_layer(pool_112, 2*filters, dropout_val, batch_norm)\n",
    "    pool_56 = MaxPooling2D(pool_size=(2, 2))(conv_112)\n",
    "\n",
    "    conv_56 = double_conv_layer(pool_56, 4*filters, dropout_val, batch_norm)\n",
    "    pool_28 = MaxPooling2D(pool_size=(2, 2))(conv_56)\n",
    "\n",
    "    conv_28 = double_conv_layer(pool_28, 8*filters, dropout_val, batch_norm)\n",
    "    pool_14 = MaxPooling2D(pool_size=(2, 2))(conv_28)\n",
    "\n",
    "    conv_14 = double_conv_layer(pool_14, 16*filters, dropout_val, batch_norm)\n",
    "    pool_7 = MaxPooling2D(pool_size=(2, 2))(conv_14)\n",
    "\n",
    "    conv_7 = double_conv_layer(pool_7, 32*filters, dropout_val, batch_norm)\n",
    "\n",
    "    up_14 = concatenate([UpSampling2D(size=(2, 2))(conv_7), conv_14], axis=axis)\n",
    "    up_conv_14 = double_conv_layer(up_14, 16*filters, dropout_val, batch_norm)\n",
    "\n",
    "    up_28 = concatenate([UpSampling2D(size=(2, 2))(up_conv_14), conv_28], axis=axis)\n",
    "    up_conv_28 = double_conv_layer(up_28, 8*filters, dropout_val, batch_norm)\n",
    "\n",
    "    up_56 = concatenate([UpSampling2D(size=(2, 2))(up_conv_28), conv_56], axis=axis)\n",
    "    up_conv_56 = double_conv_layer(up_56, 4*filters, dropout_val, batch_norm)\n",
    "\n",
    "    up_112 = concatenate([UpSampling2D(size=(2, 2))(up_conv_56), conv_112], axis=axis)\n",
    "    up_conv_112 = double_conv_layer(up_112, 2*filters, dropout_val, batch_norm)\n",
    "\n",
    "    up_224 = concatenate([UpSampling2D(size=(2, 2))(up_conv_112), conv_224], axis=axis)\n",
    "    up_conv_224 = double_conv_layer(up_224, filters, 0, batch_norm)\n",
    "\n",
    "    conv_final = Conv2D(1, (1, 1))(up_conv_224)\n",
    "    conv_final = BatchNormalization(axis=axis)(conv_final)\n",
    "    conv_final = Activation('sigmoid')(conv_final)\n",
    "\n",
    "    model = Model(inputs, conv_final, name=\"ZF_UNET_224\")\n",
    "    return model"
   ]
  },
  {
   "cell_type": "code",
   "execution_count": 16,
   "metadata": {
    "collapsed": true
   },
   "outputs": [],
   "source": [
    "def gaussian2D(shape, mean, cov):\n",
    "    '''\n",
    "    add gaussian to source image\n",
    "    params:\n",
    "        shape - shape of the output\n",
    "        mean - array-like tuple of x_mean, y_mean - relative positions\n",
    "        cov - 2x2 covariance matrix\n",
    "        magnitude - maximal intensity of gaussian\n",
    "    '''\n",
    "    X, Y = np.indices(shape)\n",
    "    X = (X + 1).astype(np.float) / (shape[0] + 1)\n",
    "    Y = (Y + 1).astype(np.float) / (shape[1] + 1)\n",
    "    r = np.stack([X, Y], -1) - mean\n",
    "    exp = np.einsum('ijk,kl,ijl->ij', r, np.linalg.inv(cov), r)\n",
    "    exp = np.exp(-0.5 * exp)\n",
    "    return exp"
   ]
  },
  {
   "cell_type": "code",
   "execution_count": 21,
   "metadata": {
    "collapsed": true
   },
   "outputs": [],
   "source": [
    "def gen_random_image():\n",
    "    image_size = (128, 128)\n",
    "\n",
    "    # Background\n",
    "    #dark_color = np.random.randint(0, 100)\n",
    "    #img = dark_color * np.ones(image_size)\n",
    "    img = get_random_background()\n",
    "\n",
    "    # Object\n",
    "    light_color = np.random.randint(1, 255-dark_color)\n",
    "    mean = np.random.random(size=2)\n",
    "    radius = np.random.uniform(0.0001, 0.005)\n",
    "    cov = np.eye(2) + 0.5 * np.random.uniform(-1, 1, size=(2, 2))\n",
    "    GSN = gaussian2D(image_size, mean=mean, cov=radius*cov)\n",
    "    img = img + GSN * light_color\n",
    "    mask = (GSN>0.5).astype('float32')\n",
    "\n",
    "    # White noise\n",
    "    noise = np.random.randint(0, 255, size=image_size)\n",
    "    p_noise = np.random.random(size=image_size)\n",
    "    th = np.random.uniform(0, 0.1)\n",
    "    img[p_noise < th] = noise[p_noise < th]\n",
    "    img = np.expand_dims(img, -1)\n",
    "    mask = np.expand_dims(mask, -1)\n",
    "    return img, mask"
   ]
  },
  {
   "cell_type": "code",
   "execution_count": null,
   "metadata": {
    "collapsed": true
   },
   "outputs": [],
   "source": [
    "def a2img(array):\n",
    "    array = np.clip(array[:, :, 0], 0, 255)\n",
    "    array =  array.astype('int32')\n",
    "    return array"
   ]
  },
  {
   "cell_type": "code",
   "execution_count": 32,
   "metadata": {
    "collapsed": true
   },
   "outputs": [],
   "source": [
    "def batch_generator(batch_size):\n",
    "    while True:\n",
    "        image_list = []\n",
    "        mask_list = []\n",
    "        for i in range(batch_size):\n",
    "            img, mask = gen_random_image()\n",
    "            image_list.append(img)\n",
    "            mask_list.append(mask)\n",
    "\n",
    "        image_list = np.array(image_list, dtype=np.float32)\n",
    "\n",
    "        image_list = preprocess_batch(image_list)\n",
    "        mask_list = np.array(mask_list, dtype=np.float32)\n",
    "        yield image_list, mask_list"
   ]
  },
  {
   "cell_type": "code",
   "execution_count": 53,
   "metadata": {
    "collapsed": true
   },
   "outputs": [],
   "source": [
    "out_model_path = 'zf_unet_224.h5'\n",
    "batch_size=64\n",
    "model = ZF_UNET_224()\n",
    "model.compile(Adam(), loss=dice_coef_loss, metrics=[dice_coef])\n",
    "\n",
    "print('Start training...')\n",
    "history = model.fit_generator(\n",
    "     generator=batch_generator(batch_size),\n",
    "     epochs=1000,\n",
    "     steps_per_epoch=10,\n",
    "     validation_data=batch_generator(batch_size),\n",
    "     validation_steps=10,\n",
    "     verbose=0)\n",
    "    \n",
    "model.save_weights(out_model_path)\n",
    "pd.DataFrame(history.history).to_csv('zf_unet_224_train.csv', index=False)"
   ]
  },
  {
   "cell_type": "code",
   "execution_count": 49,
   "metadata": {},
   "outputs": [
    {
     "data": {
      "text/plain": [
       "{'dice_coef': [0.042342340610921382],\n",
       " 'loss': [-0.042342340610921382],\n",
       " 'val_dice_coef': [0.032911372929811479],\n",
       " 'val_loss': [-0.032911372929811479]}"
      ]
     },
     "execution_count": 49,
     "metadata": {},
     "output_type": "execute_result"
    }
   ],
   "source": [
    "history.history"
   ]
  },
  {
   "cell_type": "code",
   "execution_count": 55,
   "metadata": {},
   "outputs": [
    {
     "data": {
      "image/png": "[encoded data removed]",
      "text/plain": [
       "<matplotlib.figure.Figure at 0x7efd210a5f90>"
      ]
     },
     "metadata": {},
     "output_type": "display_data"
    }
   ],
   "source": [
    "x_batch, y_batch = batch_generator(5).next()\n",
    "\n",
    "y_pred = model.predict(x_batch)\n",
    "\n",
    "f, axes = plt.subplots(3, 5, figsize=(16, 10))\n",
    "\n",
    "axes[0, 0].set_ylabel('input', fontsize=16)\n",
    "for i in range(5):\n",
    "    ax = axes[0, i]\n",
    "    ax.imshow(x_batch[i][:, :, 0], cmap='gray')\n",
    "    ax.set_xticks([])\n",
    "    ax.set_yticks([])\n",
    "\n",
    "axes[1, 0].set_ylabel('true', fontsize=16)\n",
    "for i in range(5):\n",
    "    ax = axes[1, i]\n",
    "    ax.imshow(y_batch[i][:, :, 0], cmap='gray')\n",
    "    ax.set_xticks([])\n",
    "    ax.set_yticks([])\n",
    "\n",
    "axes[2, 0].set_ylabel('prediction', fontsize=16)\n",
    "for i in range(5):\n",
    "    ax = axes[2, i]\n",
    "    ax.imshow(y_pred[i][:, :, 0], cmap='gray')\n",
    "    ax.set_xticks([])\n",
    "    ax.set_yticks([])"
   ]
  },
  {
   "cell_type": "code",
   "execution_count": null,
   "metadata": {
    "collapsed": true
   },
   "outputs": [],
   "source": []
  }
 ],
 "metadata": {
  "kernelspec": {
   "display_name": "Python 2",
   "language": "python",
   "name": "python2"
  },
  "language_info": {
   "codemirror_mode": {
    "name": "ipython",
    "version": 2
   },
   "file_extension": ".py",
   "mimetype": "text/x-python",
   "name": "python",
   "nbconvert_exporter": "python",
   "pygments_lexer": "ipython2",
   "version": "2.7.11"
  }
 },
 "nbformat": 4,
 "nbformat_minor": 2
}
