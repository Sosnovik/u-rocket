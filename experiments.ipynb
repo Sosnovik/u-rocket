{
 "cells": [
  {
   "cell_type": "code",
   "execution_count": 2,
   "metadata": {
    "collapsed": false
   },
   "outputs": [
    {
     "name": "stderr",
     "output_type": "stream",
     "text": [
      "Using TensorFlow backend.\n"
     ]
    }
   ],
   "source": [
    "import tensorflow as tf\n",
    "import numpy as np\n",
    "import rocket_tools as rt\n",
    "from keras import backend \n",
    "from keras.backend import learning_phase\n",
    "import cv2\n",
    "import os\n",
    "os.environ[\"CUDA_VISIBLE_DEVICES\"]=\"1\""
   ]
  },
  {
   "cell_type": "code",
   "execution_count": 3,
   "metadata": {
    "collapsed": false
   },
   "outputs": [
    {
     "name": "stdout",
     "output_type": "stream",
     "text": [
      "INFO:tensorflow:Restoring parameters from ./../saved_models/u_net_image_size=128_snr_all_w_more_dot\n"
     ]
    }
   ],
   "source": [
    "image_size = 128\n",
    "n_images = 3\n",
    "#steps = 500\n",
    "\n",
    "tf.reset_default_graph()\n",
    "\n",
    "x_input = tf.placeholder(tf.float32,\n",
    "                         [None, image_size, image_size, n_images],\n",
    "                         name='input')\n",
    "\n",
    "\n",
    "model = rt.model.U_NET(input_=(image_size, image_size, n_images))\n",
    "y_pred = model(x_input)\n",
    "\n",
    "sess = tf.InteractiveSession()\n",
    "saver = tf.train.Saver()\n",
    "\n",
    "MODEL_PATH = './../saved_models/u_net_image_size=128_snr_all_w_more_dot'\n",
    "saver.restore(sess, MODEL_PATH)"
   ]
  },
  {
   "cell_type": "code",
   "execution_count": 3,
   "metadata": {
    "collapsed": false
   },
   "outputs": [
    {
     "name": "stdout",
     "output_type": "stream",
     "text": [
      "start\n",
      "1.0\n",
      "1.09090909091\n",
      "1.18181818182\n",
      "1.27272727273\n",
      "1.36363636364\n",
      "1.45454545455\n",
      "1.54545454545\n",
      "1.63636363636\n",
      "1.72727272727\n",
      "1.81818181818\n",
      "1.90909090909\n",
      "2.0\n",
      "2.09090909091\n",
      "2.18181818182\n",
      "2.27272727273\n",
      "2.36363636364\n",
      "2.45454545455\n",
      "2.54545454545\n",
      "2.63636363636\n",
      "2.72727272727\n",
      "2.81818181818\n",
      "2.90909090909\n",
      "3.0\n",
      "3.09090909091\n",
      "3.18181818182\n",
      "3.27272727273\n",
      "3.36363636364\n",
      "3.45454545455\n",
      "3.54545454545\n",
      "3.63636363636\n",
      "3.72727272727\n",
      "3.81818181818\n",
      "3.90909090909\n",
      "4.0\n",
      "4.09090909091\n",
      "4.18181818182\n",
      "4.27272727273\n",
      "4.36363636364\n",
      "4.45454545455\n",
      "4.54545454545\n",
      "4.63636363636\n",
      "4.72727272727\n",
      "4.81818181818\n",
      "4.90909090909\n",
      "5.0\n",
      "5.09090909091\n",
      "5.18181818182\n",
      "5.27272727273\n",
      "5.36363636364\n",
      "5.45454545455\n",
      "5.54545454545\n",
      "5.63636363636\n",
      "5.72727272727\n",
      "5.81818181818\n",
      "5.90909090909\n",
      "6.0\n",
      "6.09090909091\n",
      "6.18181818182\n",
      "6.27272727273\n",
      "6.36363636364\n",
      "6.45454545455\n",
      "6.54545454545\n",
      "6.63636363636\n",
      "6.72727272727\n",
      "6.81818181818\n",
      "6.90909090909\n",
      "7.0\n",
      "7.09090909091\n",
      "7.18181818182\n",
      "7.27272727273\n",
      "7.36363636364\n",
      "7.45454545455\n",
      "7.54545454545\n",
      "7.63636363636\n",
      "7.72727272727\n",
      "7.81818181818\n",
      "7.90909090909\n",
      "8.0\n"
     ]
    },
    {
     "ename": "IOError",
     "evalue": "Failed to write to /home/kimsvimpel/Students/sosnovik/u-rocket/exp_res/resulst_snr_8.0.npztXc1Gz-numpy.npy: [Errno 28] No space left on device",
     "traceback": [
      "\u001b[0;31m---------------------------------------------------------------------------\u001b[0m",
      "\u001b[0;31mIOError\u001b[0m                                   Traceback (most recent call last)",
      "\u001b[0;32m<ipython-input-3-12b76f7d616e>\u001b[0m in \u001b[0;36m<module>\u001b[0;34m()\u001b[0m\n\u001b[1;32m     24\u001b[0m         \u001b[0;34m'pred'\u001b[0m\u001b[0;34m:\u001b[0m \u001b[0mpredictions\u001b[0m\u001b[0;34m\u001b[0m\u001b[0m\n\u001b[1;32m     25\u001b[0m     }\n\u001b[0;32m---> 26\u001b[0;31m     \u001b[0mnp\u001b[0m\u001b[0;34m.\u001b[0m\u001b[0msavez_compressed\u001b[0m\u001b[0;34m(\u001b[0m\u001b[0;34m'exp_res/resulst_snr_{}.npz'\u001b[0m\u001b[0;34m.\u001b[0m\u001b[0mformat\u001b[0m\u001b[0;34m(\u001b[0m\u001b[0msnr_r\u001b[0m\u001b[0;34m)\u001b[0m\u001b[0;34m,\u001b[0m \u001b[0mresults\u001b[0m\u001b[0;34m=\u001b[0m\u001b[0mresults\u001b[0m\u001b[0;34m)\u001b[0m\u001b[0;34m\u001b[0m\u001b[0m\n\u001b[0m\u001b[1;32m     27\u001b[0m \u001b[0;32mprint\u001b[0m\u001b[0;34m(\u001b[0m\u001b[0;34m'finish'\u001b[0m\u001b[0;34m)\u001b[0m\u001b[0;34m\u001b[0m\u001b[0m\n\u001b[1;32m     28\u001b[0m \u001b[0;31m#np.savez_compressed('resulst_snr_{}_100.npz'.format(snr), results=results)\u001b[0m\u001b[0;34m\u001b[0m\u001b[0;34m\u001b[0m\u001b[0m\n",
      "\u001b[0;32m/usr/local/lib/python2.7/dist-packages/numpy/lib/npyio.pyc\u001b[0m in \u001b[0;36msavez_compressed\u001b[0;34m(file, *args, **kwds)\u001b[0m\n\u001b[1;32m    655\u001b[0m \u001b[0;34m\u001b[0m\u001b[0m\n\u001b[1;32m    656\u001b[0m     \"\"\"\n\u001b[0;32m--> 657\u001b[0;31m     \u001b[0m_savez\u001b[0m\u001b[0;34m(\u001b[0m\u001b[0mfile\u001b[0m\u001b[0;34m,\u001b[0m \u001b[0margs\u001b[0m\u001b[0;34m,\u001b[0m \u001b[0mkwds\u001b[0m\u001b[0;34m,\u001b[0m \u001b[0mTrue\u001b[0m\u001b[0;34m)\u001b[0m\u001b[0;34m\u001b[0m\u001b[0m\n\u001b[0m\u001b[1;32m    658\u001b[0m \u001b[0;34m\u001b[0m\u001b[0m\n\u001b[1;32m    659\u001b[0m \u001b[0;34m\u001b[0m\u001b[0m\n",
      "\u001b[0;32m/usr/local/lib/python2.7/dist-packages/numpy/lib/npyio.pyc\u001b[0m in \u001b[0;36m_savez\u001b[0;34m(file, args, kwds, compress, allow_pickle, pickle_kwargs)\u001b[0m\n\u001b[1;32m    706\u001b[0m                 \u001b[0mzipf\u001b[0m\u001b[0;34m.\u001b[0m\u001b[0mwrite\u001b[0m\u001b[0;34m(\u001b[0m\u001b[0mtmpfile\u001b[0m\u001b[0;34m,\u001b[0m \u001b[0marcname\u001b[0m\u001b[0;34m=\u001b[0m\u001b[0mfname\u001b[0m\u001b[0;34m)\u001b[0m\u001b[0;34m\u001b[0m\u001b[0m\n\u001b[1;32m    707\u001b[0m             \u001b[0;32mexcept\u001b[0m \u001b[0mIOError\u001b[0m \u001b[0;32mas\u001b[0m \u001b[0mexc\u001b[0m\u001b[0;34m:\u001b[0m\u001b[0;34m\u001b[0m\u001b[0m\n\u001b[0;32m--> 708\u001b[0;31m                 \u001b[0;32mraise\u001b[0m \u001b[0mIOError\u001b[0m\u001b[0;34m(\u001b[0m\u001b[0;34m\"Failed to write to %s: %s\"\u001b[0m \u001b[0;34m%\u001b[0m \u001b[0;34m(\u001b[0m\u001b[0mtmpfile\u001b[0m\u001b[0;34m,\u001b[0m \u001b[0mexc\u001b[0m\u001b[0;34m)\u001b[0m\u001b[0;34m)\u001b[0m\u001b[0;34m\u001b[0m\u001b[0m\n\u001b[0m\u001b[1;32m    709\u001b[0m             \u001b[0;32mfinally\u001b[0m\u001b[0;34m:\u001b[0m\u001b[0;34m\u001b[0m\u001b[0m\n\u001b[1;32m    710\u001b[0m                 \u001b[0;32mif\u001b[0m \u001b[0mfid\u001b[0m\u001b[0;34m:\u001b[0m\u001b[0;34m\u001b[0m\u001b[0m\n",
      "\u001b[0;31mIOError\u001b[0m: Failed to write to /home/kimsvimpel/Students/sosnovik/u-rocket/exp_res/resulst_snr_8.0.npztXc1Gz-numpy.npy: [Errno 28] No space left on device"
     ],
     "output_type": "error"
    }
   ],
   "source": [
    "snr_test = np.linspace(1, 10.0, 100)\n",
    "print('start')\n",
    "for snr in snr_test:\n",
    "    results={}\n",
    "    print(snr)\n",
    "    predictions = []\n",
    "    true_masks = []\n",
    "\n",
    "    image_generator = rt.image_gen.ImageGenerator(\n",
    "        image_size=(image_size, image_size), snr_mean=snr, snr_std=0.0)\n",
    "    batch_generator = rt.batch_generator.BatchGenerator(image_generator, batch_size=32, n_images=n_images)\n",
    "    \n",
    "    \n",
    "    for step in range(steps):\n",
    "        x_array, y_true_array = next(batch_generator)\n",
    "        y_pred_array = sess.run(y_pred, feed_dict={\n",
    "            x_input: x_array,\n",
    "            learning_phase(): 1\n",
    "        })\n",
    "        predictions.append(y_pred_array)\n",
    "        true_masks.append(y_true_array)\n",
    "        \n",
    "    snr_r = round(snr, 1)\n",
    "    results['snr_{}'.format(snr_r)] = {\n",
    "        'true': true_masks,\n",
    "        'pred': predictions\n",
    "    }\n",
    "    np.savez_compressed('exp_res/resulst_snr_{}.npz'.format(snr_r), results=results)\n",
    "print('finish')\n",
    "#np.savez_compressed('resulst_snr_{}_100.npz'.format(snr), results=results)"
   ]
  },
  {
   "cell_type": "code",
   "execution_count": 13,
   "metadata": {
    "collapsed": false
   },
   "outputs": [],
   "source": [
    "results={}\n",
    "n_images = 3\n",
    "steps = 100\n",
    "pred = []\n",
    "true_msk = []\n",
    "image_generator = rt.image_gen.ImageGenerator(image_size=(image_size, image_size), snr_mean=6, snr_std=2)\n",
    "batch_generator = rt.batch_generator.BatchGenerator(image_generator, batch_size=1, n_images=n_images)\n",
    "for step in range(steps):\n",
    "    x_array, y_true_array = next(batch_generator)\n",
    "    y_pred_array = sess.run(y_pred, feed_dict={\n",
    "        x_input: x_array,\n",
    "        learning_phase(): 1 \n",
    "        })\n",
    "    \n",
    "    pred.append(y_pred_array)\n",
    "    true_msk.append(y_true_array)\n",
    "        \n",
    "    results['snr_all'] = {\n",
    "        'true': true_msk,\n",
    "        'pred': pred\n",
    "    }\n",
    "np.savez_compressed('exp_res/empty_res_new.npz', results=results)"
   ]
  },
  {
   "cell_type": "code",
   "execution_count": null,
   "metadata": {
    "collapsed": true
   },
   "outputs": [],
   "source": [
    ""
   ]
  }
 ],
 "metadata": {
  "kernelspec": {
   "display_name": "Python 2",
   "language": "python",
   "name": "python2"
  },
  "language_info": {
   "codemirror_mode": {
    "name": "ipython",
    "version": 2.0
   },
   "file_extension": ".py",
   "mimetype": "text/x-python",
   "name": "python",
   "nbconvert_exporter": "python",
   "pygments_lexer": "ipython2",
   "version": "2.7.6"
  }
 },
 "nbformat": 4,
 "nbformat_minor": 0
}