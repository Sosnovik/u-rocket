{
 "cells": [
  {
   "cell_type": "code",
   "execution_count": null,
   "metadata": {
    "collapsed": true
   },
   "outputs": [],
   "source": [
    "import tensorflow as tf\n",
    "import numpy as np\n",
    "import rocket_tools as rt\n",
    "from keras import backend \n",
    "from keras.backend import learning_phase\n",
    "import os\n",
    "os.environ[\"CUDA_VISIBLE_DEVICES\"]=\"0\"  "
   ]
  },
  {
   "cell_type": "code",
   "execution_count": null,
   "metadata": {
    "collapsed": true
   },
   "outputs": [],
   "source": [
    "image_size = 128\n",
    "n_images = 3\n",
    "steps = 1000\n",
    "\n",
    "tf.reset_default_graph()\n",
    "\n",
    "x_input = tf.placeholder(tf.float32,\n",
    "                         [None, image_size, image_size, n_images],\n",
    "                         name='input')\n",
    "\n",
    "\n",
    "model = rt.model.U_NET(input_=(image_size, image_size, n_images))\n",
    "y_pred = model(x_input)\n",
    "\n",
    "sess = tf.InteractiveSession()\n",
    "saver = tf.train.Saver()\n",
    "\n",
    "MODEL_PATH = './../saved_models/u_net_image_size=128_snr_all_w_more_dot'\n",
    "saver.restore(sess, MODEL_PATH)\n",
    "\n",
    "results = {}\n",
    "snr_test = np.linspace(0.1, 10.0, 100)\n",
    "\n",
    "for snr in snr_test:\n",
    "    predictions = []\n",
    "    true_masks = []\n",
    "\n",
    "    image_generator = rt.image_gen.ImageGenerator(\n",
    "        image_size=(image_size, image_size))\n",
    "    batch_generator = rt.batch_generator.BatchGenerator(image_generator, batch_size,\n",
    "                                                        snr_mean=snr, snr_std=0.0, n_images=n_images)\n",
    "    for step in range(steps):\n",
    "        x_array, y_true_array = next(batch_generator)\n",
    "        y_pred_array = sess.run(y_pred, feed_dict={\n",
    "            x_input: x_array,\n",
    "            learning_phase(): 0\n",
    "        })\n",
    "        predictions.append(y_pred_array)\n",
    "        true_masks.append(y_true_array)\n",
    "\n",
    "    results['snr_{}'.format(snr)] = {\n",
    "        'true': true_masks,\n",
    "        'pred': predictions\n",
    "    }\n",
    "\n",
    "np.savez_compressed('resulst_snr_0.1_10_100.npz', results=results)\n"
   ]
  }
 ],
 "metadata": {
  "kernelspec": {
   "display_name": "Python 2",
   "language": "python",
   "name": "python2"
  },
  "language_info": {
   "codemirror_mode": {
    "name": "ipython",
    "version": 2
   },
   "file_extension": ".py",
   "mimetype": "text/x-python",
   "name": "python",
   "nbconvert_exporter": "python",
   "pygments_lexer": "ipython2",
   "version": "2.7.11"
  }
 },
 "nbformat": 4,
 "nbformat_minor": 2
}
