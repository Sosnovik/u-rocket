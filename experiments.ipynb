{
 "cells": [
  {
   "cell_type": "code",
   "execution_count": 1,
   "metadata": {
    "collapsed": false
   },
   "outputs": [
    {
     "name": "stderr",
     "output_type": "stream",
     "text": [
      "Using TensorFlow backend.\n"
     ]
    }
   ],
   "source": [
    "import tensorflow as tf\n",
    "import numpy as np\n",
    "import rocket_tools as rt\n",
    "from keras import backend \n",
    "from keras.backend import learning_phase\n",
    "import os\n",
    "os.environ[\"CUDA_VISIBLE_DEVICES\"]=\"1\"  "
   ]
  },
  {
   "cell_type": "code",
   "execution_count": 2,
   "metadata": {
    "collapsed": false
   },
   "outputs": [
    {
     "name": "stdout",
     "output_type": "stream",
     "text": [
      "INFO:tensorflow:Restoring parameters from ./../saved_models/u_net_image_size=128_snr_all_w_more_dot\n"
     ]
    }
   ],
   "source": [
    "image_size = 128\n",
    "n_images = 3\n",
    "steps = 500\n",
    "\n",
    "tf.reset_default_graph()\n",
    "\n",
    "x_input = tf.placeholder(tf.float32,\n",
    "                         [None, image_size, image_size, n_images],\n",
    "                         name='input')\n",
    "\n",
    "\n",
    "model = rt.model.U_NET(input_=(image_size, image_size, n_images))\n",
    "y_pred = model(x_input)\n",
    "\n",
    "sess = tf.InteractiveSession()\n",
    "saver = tf.train.Saver()\n",
    "\n",
    "MODEL_PATH = './../saved_models/u_net_image_size=128_snr_all_w_more_dot'\n",
    "saver.restore(sess, MODEL_PATH)"
   ]
  },
  {
   "cell_type": "code",
   "execution_count": 3,
   "metadata": {
    "collapsed": false
   },
   "outputs": [
    {
     "name": "stdout",
     "output_type": "stream",
     "text": [
      "start\n",
      "1.0\n",
      "1.09090909091\n",
      "1.18181818182\n",
      "1.27272727273\n",
      "1.36363636364\n",
      "1.45454545455\n",
      "1.54545454545\n",
      "1.63636363636\n",
      "1.72727272727\n",
      "1.81818181818\n",
      "1.90909090909\n",
      "2.0\n",
      "2.09090909091\n",
      "2.18181818182\n",
      "2.27272727273\n",
      "2.36363636364\n",
      "2.45454545455\n",
      "2.54545454545\n",
      "2.63636363636\n",
      "2.72727272727\n",
      "2.81818181818\n",
      "2.90909090909\n",
      "3.0\n",
      "3.09090909091\n",
      "3.18181818182\n",
      "3.27272727273\n",
      "3.36363636364\n",
      "3.45454545455\n",
      "3.54545454545\n",
      "3.63636363636\n",
      "3.72727272727\n",
      "3.81818181818\n",
      "3.90909090909\n",
      "4.0\n",
      "4.09090909091\n",
      "4.18181818182\n",
      "4.27272727273\n",
      "4.36363636364\n",
      "4.45454545455\n",
      "4.54545454545\n",
      "4.63636363636\n",
      "4.72727272727\n",
      "4.81818181818\n",
      "4.90909090909\n",
      "5.0\n",
      "5.09090909091\n",
      "5.18181818182\n",
      "5.27272727273\n",
      "5.36363636364\n",
      "5.45454545455\n",
      "5.54545454545\n",
      "5.63636363636\n",
      "5.72727272727\n",
      "5.81818181818\n",
      "5.90909090909\n",
      "6.0\n",
      "6.09090909091\n",
      "6.18181818182\n",
      "6.27272727273\n",
      "6.36363636364\n",
      "6.45454545455\n",
      "6.54545454545\n",
      "6.63636363636\n",
      "6.72727272727\n",
      "6.81818181818\n",
      "6.90909090909\n",
      "7.0\n",
      "7.09090909091\n",
      "7.18181818182\n",
      "7.27272727273\n",
      "7.36363636364\n",
      "7.45454545455\n",
      "7.54545454545\n",
      "7.63636363636\n",
      "7.72727272727\n",
      "7.81818181818\n",
      "7.90909090909\n",
      "8.0\n",
      "8.09090909091\n",
      "8.18181818182\n",
      "8.27272727273\n",
      "8.36363636364\n",
      "8.45454545455\n",
      "8.54545454545\n",
      "8.63636363636\n",
      "8.72727272727\n",
      "8.81818181818\n",
      "8.90909090909\n",
      "9.0\n",
      "9.09090909091\n",
      "9.18181818182\n",
      "9.27272727273\n",
      "9.36363636364\n",
      "9.45454545455\n",
      "9.54545454545\n",
      "9.63636363636\n",
      "9.72727272727\n",
      "9.81818181818\n",
      "9.90909090909\n",
      "10.0\n",
      "finish\n"
     ]
    }
   ],
   "source": [
    "snr_test = np.linspace(1, 10.0, 100)\n",
    "print('start')\n",
    "for snr in snr_test:\n",
    "    results={}\n",
    "    print(snr)\n",
    "    predictions = []\n",
    "    true_masks = []\n",
    "\n",
    "    image_generator = rt.image_gen.ImageGenerator(\n",
    "        image_size=(image_size, image_size))\n",
    "    batch_generator = rt.batch_generator.BatchGenerator(image_generator, batch_size=32,\n",
    "                                                        snr_mean=snr, snr_std=0.0, n_images=n_images)\n",
    "    for step in range(steps):\n",
    "        x_array, y_true_array = next(batch_generator)\n",
    "        y_pred_array = sess.run(y_pred, feed_dict={\n",
    "            x_input: x_array,\n",
    "            learning_phase(): 0\n",
    "        })\n",
    "        predictions.append(y_pred_array)\n",
    "        true_masks.append(y_true_array)\n",
    "\n",
    "    results['snr_{}'.format(snr)] = {\n",
    "        'true': true_masks,\n",
    "        'pred': predictions\n",
    "    }\n",
    "    np.savez_compressed('resulst_snr_{}_100.npz'.format(snr), results=results)\n",
    "print('finish')\n",
    "#np.savez_compressed('resulst_snr_{}_100.npz'.format(snr), results=results)"
   ]
  },
  {
   "cell_type": "code",
   "execution_count": null,
   "metadata": {
    "collapsed": true
   },
   "outputs": [],
   "source": []
  }
 ],
 "metadata": {
  "kernelspec": {
   "display_name": "Python 2",
   "language": "python",
   "name": "python2"
  },
  "language_info": {
   "codemirror_mode": {
    "name": "ipython",
    "version": 2
   },
   "file_extension": ".py",
   "mimetype": "text/x-python",
   "name": "python",
   "nbconvert_exporter": "python",
   "pygments_lexer": "ipython2",
   "version": "2.7.6"
  }
 },
 "nbformat": 4,
 "nbformat_minor": 2
}
